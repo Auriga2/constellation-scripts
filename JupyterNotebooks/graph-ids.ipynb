{
 "cells": [
  {
   "cell_type": "markdown",
   "metadata": {},
   "source": [
    "# Working with more than one graph\n",
    "Each graph has a unique identifier that can be used in some APIs. The optional `graph_id` parameter specifies a particular graph to be used, rather than just the currently active graph."
   ]
  },
  {
   "cell_type": "code",
   "execution_count": null,
   "metadata": {},
   "outputs": [],
   "source": [
    "import random\n",
    "import pandas as pd\n",
    "from IPython.display import display, Image\n",
    "import constellation_client\n",
    "\n",
    "cc = constellation_client.Constellation()"
   ]
  },
  {
   "cell_type": "code",
   "execution_count": null,
   "metadata": {},
   "outputs": [],
   "source": [
    "N = 3"
   ]
  },
  {
   "cell_type": "code",
   "execution_count": null,
   "metadata": {},
   "outputs": [],
   "source": [
    "# Create some new graphs and get their graph ids.\n",
    "#\n",
    "for _ in range(N):\n",
    "    cc.new_graph()\n",
    "\n",
    "graphs = cc.list_graphs()\n",
    "display(graphs)\n",
    "\n",
    "graph_ids = [g['id'] for g in graphs]\n",
    "display(graph_ids)"
   ]
  },
  {
   "cell_type": "code",
   "execution_count": null,
   "metadata": {},
   "outputs": [],
   "source": [
    "# Populate the graphs.\n",
    "#\n",
    "for i, gid in enumerate(graph_ids):\n",
    "    df = pd.DataFrame({\n",
    "        'source.Label': [f'user_a{i}@example.com<Email>', f'user_b{i}@example.com<Email>', f'user_c{i}@example.com<Email>'],\n",
    "        'destination.Label': [None, f'user_c{i}@example.com<Email>', f'user_b{i+1}@example.com<Email>'],\n",
    "        'transaction.directed':[True, True, True]\n",
    "    })\n",
    "    print(f'Put dataframe {i} to graph {gid} ...')\n",
    "    cc.put_dataframe(df, graph_id=gid)"
   ]
  },
  {
   "cell_type": "code",
   "execution_count": null,
   "metadata": {},
   "outputs": [],
   "source": [
    "# Get the data from each graph and merge them into a new graph.\n",
    "#\n",
    "dfs = []\n",
    "for gid in graph_ids:\n",
    "    print(f'Get dataframe from graph {gid} ...')\n",
    "    df = cc.get_dataframe(graph_id=gid, attrs=['source.Label', 'destination.Label', 'transaction.directed'])\n",
    "    dfs.append(df)\n",
    "\n",
    "df = pd.concat(dfs)\n",
    "display(df)\n",
    "\n",
    "gid_new = cc.new_graph()\n",
    "cc.put_dataframe(df, graph_id=gid_new)"
   ]
  },
  {
   "cell_type": "code",
   "execution_count": null,
   "metadata": {},
   "outputs": [],
   "source": [
    "def rand_color():\n",
    "    return '#' + ''.join(f'{random.randrange(0, 256):02x}' for _ in range(3))"
   ]
  },
  {
   "cell_type": "code",
   "execution_count": null,
   "metadata": {},
   "outputs": [],
   "source": [
    "# Run some plugins on each graph.\n",
    "#\n",
    "for gid,df in zip(graph_ids, dfs):\n",
    "    vx_ids = list(df['source.[id]'])\n",
    "    args = {\n",
    "        'BlazeUtilities.vertex_ids': vx_ids,\n",
    "        'BlazeUtilities.color': rand_color()\n",
    "    }\n",
    "    print(f'Graph {gid} ...')\n",
    "    cc.run_plugin('addcustomblaze', graph_id=gid, args=args)\n",
    "    cc.run_plugin('arrangeincircle', graph_id=gid)\n",
    "    cc.run_plugin('resetview', graph_id=gid)"
   ]
  },
  {
   "cell_type": "code",
   "execution_count": null,
   "metadata": {},
   "outputs": [],
   "source": [
    "# Set some graph attributes.\n",
    "#\n",
    "for gid in graph_ids:\n",
    "    labels = f'Type;{rand_color()};0.5|Label;{rand_color()};1'\n",
    "    print(f'Graph {gid} {labels}')\n",
    "    df = pd.DataFrame({'node_labels_top': [labels], 'background_color':[rand_color()]})\n",
    "    cc.set_graph_attributes(df, graph_id=gid)"
   ]
  },
  {
   "cell_type": "code",
   "execution_count": null,
   "metadata": {},
   "outputs": [],
   "source": [
    "# Get the graph attributes.\n",
    "#\n",
    "for gid in graph_ids:\n",
    "    df = cc.get_graph_attributes(graph_id=gid)\n",
    "    labels = df['node_labels_top'][0]\n",
    "    print(f'Graph {gid} {labels}')"
   ]
  },
  {
   "cell_type": "markdown",
   "metadata": {},
   "source": [
    "A graph image must be taken from the active graph, so `get_graph_image()` doesn't have a graph_id parameter."
   ]
  },
  {
   "cell_type": "code",
   "execution_count": null,
   "metadata": {},
   "outputs": [],
   "source": [
    "for gid in graph_ids:\n",
    "    cc.set_current_graph(gid)\n",
    "    buf = cc.get_graph_image()\n",
    "    display(f'Graph {gid}')\n",
    "    display(Image(buf))"
   ]
  },
  {
   "cell_type": "code",
   "execution_count": null,
   "metadata": {},
   "outputs": [],
   "source": []
  }
 ],
 "metadata": {
  "kernelspec": {
   "display_name": "Python 3",
   "language": "python",
   "name": "python3"
  },
  "language_info": {
   "codemirror_mode": {
    "name": "ipython",
    "version": 3
   },
   "file_extension": ".py",
   "mimetype": "text/x-python",
   "name": "python",
   "nbconvert_exporter": "python",
   "pygments_lexer": "ipython3",
   "version": "3.7.3"
  }
 },
 "nbformat": 4,
 "nbformat_minor": 2
}
